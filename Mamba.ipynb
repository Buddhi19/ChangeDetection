{
 "cells": [
  {
   "cell_type": "code",
   "execution_count": null,
   "metadata": {},
   "outputs": [],
   "source": [
    "import os\n",
    "import sys\n",
    "import torch\n",
    "\n",
    "main_dir = os.path.dirname(os.getcwd())\n",
    "sys.path.append(main_dir)\n",
    "print(sys.path[-1])\n",
    "\n",
    "torch.cuda.empty_cache()\n",
    "!export PYTORCH_CUDA_ALLOC_CONF=expandable_segments:True"
   ]
  },
  {
   "cell_type": "code",
   "execution_count": null,
   "metadata": {},
   "outputs": [],
   "source": [
    "from MambaCD.changedetection.models import ChangeDecoder, Mamba_backbone, MambaBCD, SemanticDecoder, STMambaBDA, STMambaSCD\n",
    "from MambaCD.changedetection.datasets import make_data_loader\n",
    "from MambaCD.changedetection.script import train_MambaBCD"
   ]
  },
  {
   "cell_type": "code",
   "execution_count": 6,
   "metadata": {},
   "outputs": [],
   "source": [
    "configs_path = os.path.join(main_dir, 'MambaCD/changedetection/configs/vssm1/vssm_small_224.yaml')\n",
    "model_path = os.path.join(main_dir, 'MambaCD','saved_models')\n",
    "pretrained_weight_path = os.path.join(main_dir, 'MambaCD','pretrained_weight/vssm_small_0229_ckpt_epoch_222.pth')"
   ]
  },
  {
   "cell_type": "code",
   "execution_count": null,
   "metadata": {},
   "outputs": [],
   "source": [
    "LEVIR_dataset_path = os.path.join(main_dir,'ChangeDetection','Datasets','LEVIR-processed')\n",
    "LEVIR_train_dataset_path = os.path.join(LEVIR_dataset_path, 'train')\n",
    "LEVIR_test_dataset_path = os.path.join(LEVIR_dataset_path, 'test')\n",
    "LEVIR_train_data_list_path = os.path.join(LEVIR_dataset_path, 'train.txt')\n",
    "LEVIR_test_data_list_path = os.path.join(LEVIR_dataset_path, 'test.txt')\n",
    "\n",
    "train_data_list = []\n",
    "with open(LEVIR_train_data_list_path, 'r') as f:\n",
    "    for line in f:\n",
    "        train_data_list.append(line.strip())\n",
    "\n",
    "test_data_list = []\n",
    "with open(LEVIR_test_data_list_path, 'r') as f:\n",
    "    for line in f:\n",
    "        test_data_list.append(line.strip())\n",
    "\n",
    "class ARGS:\n",
    "    def __init__(self):\n",
    "        self.dataset_path = LEVIR_dataset_path\n",
    "        self.pretrained_weight_path = None\n",
    "        self.dataset = 'LEVIR-CD+'\n",
    "        self.opts = None\n",
    "        self.type = 'train'\n",
    "        self.shuffle = True\n",
    "        self.crop_size = 256\n",
    "        self.batch_size = 5\n",
    "        self.max_iters = 320000\n",
    "        self.start_iter = 0\n",
    "        self.cuda = True\n",
    "        self.model_type = 'MambaBCD_Small'\n",
    "        self.learning_rate = 1e-4\n",
    "        self.momentum = 0.9\n",
    "        self.weight_decay = 5e-4\n",
    "        self.train_dataset_path = LEVIR_train_dataset_path\n",
    "        self.train_data_name_list = train_data_list\n",
    "        self.test_dataset_path = LEVIR_test_dataset_path\n",
    "        self.test_data_name_list = test_data_list\n",
    "        self.cfg = configs_path\n",
    "        self.model_param_path = model_path\n",
    "        self.resume = None\n",
    "\n",
    "args = ARGS()"
   ]
  },
  {
   "cell_type": "code",
   "execution_count": null,
   "metadata": {},
   "outputs": [],
   "source": [
    "trainer_LEVIR = train_MambaBCD(args)\n",
    "trainer_LEVIR.train()"
   ]
  },
  {
   "cell_type": "code",
   "execution_count": null,
   "metadata": {},
   "outputs": [],
   "source": [
    "trainer_LEVIR.validation()"
   ]
  },
  {
   "cell_type": "code",
   "execution_count": null,
   "metadata": {},
   "outputs": [],
   "source": [
    "SYSU_dataset_path = os.path.join(main_dir, 'ChangeDetection','Datasets','SYSU-processed')\n",
    "SYSU_train_dataset_path = os.path.join(SYSU_dataset_path, 'train')\n",
    "SYSU_test_dataset_path = os.path.join(SYSU_dataset_path, 'test')\n",
    "SYSU_train_data_list_path = os.path.join(SYSU_dataset_path, 'train.txt')\n",
    "SYSU_test_data_list_path = os.path.join(SYSU_dataset_path, 'test.txt')\n",
    "\n",
    "train_data_list = []\n",
    "with open(SYSU_train_data_list_path, 'r') as f:\n",
    "    for line in f:\n",
    "        train_data_list.append(line.strip())\n",
    "\n",
    "test_data_list = []\n",
    "with open(SYSU_test_data_list_path, 'r') as f:\n",
    "    for line in f:\n",
    "        test_data_list.append(line.strip())\n",
    "\n",
    "ARGS.dataset = 'SYSU'\n",
    "ARGS.dataset_path = SYSU_dataset_path\n",
    "ARGS.train_dataset_path = SYSU_train_dataset_path\n",
    "ARGS.train_data_name_list = train_data_list\n",
    "ARGS.test_dataset_path = SYSU_test_dataset_path\n",
    "ARGS.test_data_name_list = test_data_list"
   ]
  },
  {
   "cell_type": "code",
   "execution_count": null,
   "metadata": {},
   "outputs": [],
   "source": [
    "trainer_SYSU = train_MambaBCD.Trainer(args)\n",
    "trainer_SYSU.training()"
   ]
  },
  {
   "cell_type": "code",
   "execution_count": null,
   "metadata": {},
   "outputs": [],
   "source": [
    "trainer_SYSU.validation()"
   ]
  }
 ],
 "metadata": {
  "kernelspec": {
   "display_name": "Python 3",
   "language": "python",
   "name": "python3"
  },
  "language_info": {
   "codemirror_mode": {
    "name": "ipython",
    "version": 3
   },
   "file_extension": ".py",
   "mimetype": "text/x-python",
   "name": "python",
   "nbconvert_exporter": "python",
   "pygments_lexer": "ipython3",
   "version": "3.12.2"
  }
 },
 "nbformat": 4,
 "nbformat_minor": 2
}
