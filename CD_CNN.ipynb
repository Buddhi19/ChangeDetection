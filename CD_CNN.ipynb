{
 "cells": [
  {
   "cell_type": "code",
   "execution_count": 2,
   "metadata": {},
   "outputs": [],
   "source": [
    "import torch\n",
    "import torch.nn as nn\n",
    "import torch.nn.functional as F\n",
    "import torch.optim as optim\n",
    "from torch.utils.data import DataLoader\n",
    "import torchvision.transforms as transforms\n",
    "\n",
    "import numpy as np\n",
    "import random\n",
    "import os\n",
    "import sys\n",
    "import matplotlib.pyplot as plt\n",
    "\n",
    "from CDlib import Dataloader"
   ]
  },
  {
   "cell_type": "code",
   "execution_count": 3,
   "metadata": {},
   "outputs": [
    {
     "name": "stdout",
     "output_type": "stream",
     "text": [
      "Using device:  cuda\n"
     ]
    }
   ],
   "source": [
    "DEVICE = torch.device(\"cuda\" if torch.cuda.is_available() else \"cpu\")\n",
    "print(\"Using device: \", DEVICE)"
   ]
  },
  {
   "cell_type": "code",
   "execution_count": 4,
   "metadata": {},
   "outputs": [],
   "source": [
    "class BinaryChangeDetector(nn.Module):\n",
    "    def __init__(self):\n",
    "        super(BinaryChangeDetector, self).__init__()\n",
    "\n",
    "        # siamese network for the two input images\n",
    "        self.conv1 = nn.Conv2d(3, 16, kernel_size=3, padding=1)\n",
    "        self.conv2 = nn.Conv2d(16, 64, kernel_size=3, padding=1)\n",
    "        self.conv3 = nn.Conv2d(64, 128, kernel_size=3, padding=1)\n",
    "\n",
    "        # layers after concatenation\n",
    "        self.conv4 = nn.Conv2d(256, 128, kernel_size=3, padding=1)\n",
    "        self.conv5 = nn.Conv2d(128, 64, kernel_size=3, padding=1)\n",
    "        self.conv6 = nn.Conv2d(64, 32, kernel_size=3, padding=1)\n",
    "        self.pool = nn.MaxPool2d(2, 2)\n",
    "\n",
    "        self.out = nn.Conv2d(32, 1, kernel_size=3, padding=1)\n",
    "\n",
    "    def forward(self, img1, img2):\n",
    "        # forward pass for the first image\n",
    "        x1 = F.sigmoid(self.conv1(img1))\n",
    "        x1 = F.sigmoid(self.conv2(x1))\n",
    "        x1 = F.sigmoid(self.conv3(x1))\n",
    "\n",
    "        # forward pass for the second image\n",
    "        x2 = F.sigmoid(self.conv1(img2))\n",
    "        x2 = F.sigmoid(self.conv2(x2))\n",
    "        x2 = F.sigmoid(self.conv3(x2))\n",
    "\n",
    "        # concatenate the two images\n",
    "        x = torch.cat((x1, x2), 1)\n",
    "\n",
    "        # forward pass after concatenation\n",
    "        x = F.sigmoid(self.conv4(x))\n",
    "        x = F.sigmoid(self.conv5(x))\n",
    "        x = F.sigmoid(self.conv6(x))\n",
    "        x = self.pool(x) \n",
    "        x = self.out(x)\n",
    "        return x"
   ]
  },
  {
   "cell_type": "code",
   "execution_count": 5,
   "metadata": {},
   "outputs": [],
   "source": [
    "transform = transforms.Compose([\n",
    "    transforms.Resize((256, 256)),\n",
    "    transforms.ToTensor(),\n",
    "    transforms.Normalize(mean=[0.5, 0.5, 0.5], std=[0.5, 0.5, 0.5])\n",
    "])\n",
    "\n",
    "transform_label = transforms.Compose([\n",
    "    transforms.Resize((256, 256)),\n",
    "    transforms.ToTensor()\n",
    "])"
   ]
  },
  {
   "cell_type": "code",
   "execution_count": 6,
   "metadata": {},
   "outputs": [],
   "source": [
    "SECOND_DATASET = Dataloader.BCD_DATALOADER(transform=transform, transform_label=transform_label)\n",
    "data_loader = DataLoader(SECOND_DATASET, batch_size=1, shuffle=True)"
   ]
  },
  {
   "cell_type": "code",
   "execution_count": 7,
   "metadata": {},
   "outputs": [
    {
     "name": "stdout",
     "output_type": "stream",
     "text": [
      "torch.Size([1, 3, 256, 256]) torch.Size([1, 3, 256, 256]) torch.Size([1, 1, 256, 256])\n"
     ]
    }
   ],
   "source": [
    "test_image_T1, test_image_T2, test_label = SECOND_DATASET[0]\n",
    "test_image_T1 = test_image_T1.unsqueeze(0)\n",
    "test_image_T2 = test_image_T2.unsqueeze(0)\n",
    "test_label = test_label.unsqueeze(0)\n",
    "\n",
    "print(test_image_T1.shape, test_image_T2.shape, test_label.shape)"
   ]
  },
  {
   "cell_type": "code",
   "execution_count": 8,
   "metadata": {},
   "outputs": [
    {
     "name": "stdout",
     "output_type": "stream",
     "text": [
      "torch.Size([1, 1, 128, 128])\n"
     ]
    }
   ],
   "source": [
    "model = BinaryChangeDetector()\n",
    "\n",
    "y = model(test_image_T1, test_image_T2)\n",
    "print(y.shape)"
   ]
  },
  {
   "cell_type": "code",
   "execution_count": 35,
   "metadata": {},
   "outputs": [
    {
     "name": "stdout",
     "output_type": "stream",
     "text": [
      "Epoch 0, Iteration 0, Loss: 0.7288205027580261\n",
      "Epoch 0, Iteration 10, Loss: 0.697553813457489\n",
      "Epoch 0, Iteration 20, Loss: 0.6686431765556335\n",
      "Epoch 0, Iteration 30, Loss: 0.3972369134426117\n",
      "Epoch 0, Iteration 40, Loss: 0.27028077840805054\n",
      "Epoch 0, Iteration 50, Loss: 0.25667762756347656\n",
      "Epoch 0, Iteration 60, Loss: 0.3966756761074066\n",
      "Epoch 0, Iteration 70, Loss: 0.32199060916900635\n",
      "Epoch 0, Iteration 80, Loss: 0.29746752977371216\n",
      "Epoch 0, Iteration 90, Loss: 0.26080256700515747\n",
      "Epoch 0, Iteration 100, Loss: 0.2587669789791107\n",
      "Epoch 0, Iteration 110, Loss: 0.5568652153015137\n",
      "Epoch 0, Iteration 120, Loss: 1.024786114692688\n",
      "Epoch 0, Iteration 130, Loss: 0.5664620399475098\n",
      "Epoch 0, Iteration 140, Loss: 0.8134281635284424\n",
      "Epoch 0, Iteration 150, Loss: 0.7581262588500977\n",
      "Epoch 0, Iteration 160, Loss: 0.44429466128349304\n",
      "Epoch 0, Iteration 170, Loss: 0.4028656482696533\n",
      "Epoch 0, Iteration 180, Loss: 0.26485675573349\n",
      "Epoch 0, Iteration 190, Loss: 0.3194933235645294\n",
      "Epoch 0, Iteration 200, Loss: 0.2706703245639801\n",
      "Epoch 0, Iteration 210, Loss: 0.5918745398521423\n",
      "Epoch 0, Iteration 220, Loss: 0.5578088760375977\n",
      "Epoch 0, Iteration 230, Loss: 1.1428020000457764\n",
      "Epoch 0, Iteration 240, Loss: 0.25567930936813354\n",
      "Epoch 0, Iteration 250, Loss: 0.3067062199115753\n",
      "Epoch 0, Iteration 260, Loss: 0.34373682737350464\n",
      "Epoch 0, Iteration 270, Loss: 0.4822847247123718\n",
      "Epoch 0, Iteration 280, Loss: 0.35681256651878357\n",
      "Epoch 0, Iteration 290, Loss: 0.5008093118667603\n",
      "Epoch 0, Iteration 300, Loss: 0.36326396465301514\n",
      "Epoch 0, Iteration 310, Loss: 0.3632979094982147\n",
      "Epoch 0, Iteration 320, Loss: 0.48792845010757446\n",
      "Epoch 0, Iteration 330, Loss: 0.361789345741272\n",
      "Epoch 0, Iteration 340, Loss: 0.6808537840843201\n",
      "Epoch 0, Iteration 350, Loss: 0.6212003231048584\n",
      "Epoch 0, Iteration 360, Loss: 0.34694069623947144\n",
      "Epoch 0, Iteration 370, Loss: 0.43526551127433777\n",
      "Epoch 0, Iteration 380, Loss: 0.2769048810005188\n",
      "Epoch 0, Iteration 390, Loss: 0.6274776458740234\n",
      "Epoch 0, Iteration 400, Loss: 0.5599237680435181\n",
      "Epoch 0, Iteration 410, Loss: 0.5672409534454346\n",
      "Epoch 0, Iteration 420, Loss: 0.41556018590927124\n",
      "Epoch 0, Iteration 430, Loss: 0.7133761644363403\n",
      "Epoch 0, Iteration 440, Loss: 0.32929277420043945\n",
      "Epoch 0, Iteration 450, Loss: 0.745688796043396\n",
      "Epoch 0, Iteration 460, Loss: 0.38840213418006897\n",
      "Epoch 0, Iteration 470, Loss: 0.3546077013015747\n",
      "Epoch 0, Iteration 480, Loss: 0.3893962502479553\n",
      "Epoch 0, Iteration 490, Loss: 0.3183863162994385\n",
      "Epoch 0, Iteration 500, Loss: 0.4272353947162628\n",
      "Epoch 0, Iteration 510, Loss: 0.4622899889945984\n",
      "Epoch 0, Iteration 520, Loss: 0.31854313611984253\n",
      "Epoch 0, Iteration 530, Loss: 0.39104366302490234\n",
      "Epoch 0, Iteration 540, Loss: 0.2638162076473236\n",
      "Epoch 0, Iteration 550, Loss: 0.6781539916992188\n",
      "Epoch 0, Iteration 560, Loss: 0.436222642660141\n",
      "Epoch 0, Iteration 570, Loss: 0.6686941385269165\n",
      "Epoch 0, Iteration 580, Loss: 0.8222694993019104\n",
      "Epoch 0, Iteration 590, Loss: 0.6740939617156982\n",
      "Epoch 0, Iteration 600, Loss: 0.3476181924343109\n",
      "Epoch 0, Iteration 610, Loss: 0.3819999694824219\n",
      "Epoch 0, Iteration 620, Loss: 0.850501298904419\n",
      "Epoch 0, Iteration 630, Loss: 0.28654593229293823\n",
      "Epoch 0, Iteration 640, Loss: 0.4178498387336731\n",
      "Epoch 0, Iteration 650, Loss: 0.44160985946655273\n",
      "Epoch 0, Iteration 660, Loss: 0.5794191360473633\n",
      "Epoch 0, Iteration 670, Loss: 0.8552743196487427\n",
      "Epoch 0, Iteration 680, Loss: 0.3907957971096039\n"
     ]
    },
    {
     "ename": "KeyboardInterrupt",
     "evalue": "",
     "output_type": "error",
     "traceback": [
      "\u001b[1;31m---------------------------------------------------------------------------\u001b[0m",
      "\u001b[1;31mKeyboardInterrupt\u001b[0m                         Traceback (most recent call last)",
      "Cell \u001b[1;32mIn[35], line 8\u001b[0m\n\u001b[0;32m      6\u001b[0m \u001b[38;5;28;01mfor\u001b[39;00m epoch \u001b[38;5;129;01min\u001b[39;00m \u001b[38;5;28mrange\u001b[39m(\u001b[38;5;241m1\u001b[39m):\n\u001b[0;32m      7\u001b[0m     \u001b[38;5;28;01mfor\u001b[39;00m i, (image_T1, image_T2, label) \u001b[38;5;129;01min\u001b[39;00m \u001b[38;5;28menumerate\u001b[39m(data_loader):\n\u001b[1;32m----> 8\u001b[0m         image_T1 \u001b[38;5;241m=\u001b[39m \u001b[43mimage_T1\u001b[49m\u001b[38;5;241;43m.\u001b[39;49m\u001b[43mto\u001b[49m\u001b[43m(\u001b[49m\u001b[43mDEVICE\u001b[49m\u001b[43m)\u001b[49m\n\u001b[0;32m      9\u001b[0m         image_T2 \u001b[38;5;241m=\u001b[39m image_T2\u001b[38;5;241m.\u001b[39mto(DEVICE)\n\u001b[0;32m     10\u001b[0m         label \u001b[38;5;241m=\u001b[39m label\u001b[38;5;241m.\u001b[39mto(DEVICE)\n",
      "\u001b[1;31mKeyboardInterrupt\u001b[0m: "
     ]
    }
   ],
   "source": [
    "model = BinaryChangeDetector().to(DEVICE)\n",
    "\n",
    "criterion = nn.BCEWithLogitsLoss()\n",
    "optimizer = optim.Adam(model.parameters(), lr=0.001)\n",
    "\n",
    "for epoch in range(100):\n",
    "    for i, (image_T1, image_T2, label) in enumerate(data_loader):\n",
    "        image_T1 = image_T1.to(DEVICE)\n",
    "        image_T2 = image_T2.to(DEVICE)\n",
    "        label = label.to(DEVICE)\n",
    "\n",
    "        optimizer.zero_grad()\n",
    "        output = model(image_T1, image_T2)\n",
    "        loss = criterion(output, label)\n",
    "        loss.backward()\n",
    "        optimizer.step()\n",
    "\n",
    "        if i % 10 == 0:\n",
    "            print(f\"Epoch {epoch}, Iteration {i}, Loss: {loss.item()}\")\n"
   ]
  },
  {
   "cell_type": "code",
   "execution_count": 37,
   "metadata": {},
   "outputs": [
    {
     "data": {
      "text/plain": [
       "<matplotlib.image.AxesImage at 0x24f367b2240>"
      ]
     },
     "execution_count": 37,
     "metadata": {},
     "output_type": "execute_result"
    },
    {
     "data": {
      "image/png": "[encoded data removed]",
      "text/plain": [
       "<Figure size 640x480 with 1 Axes>"
      ]
     },
     "metadata": {},
     "output_type": "display_data"
    }
   ],
   "source": [
    "y = model(test_image_T1.to(DEVICE), test_image_T2.to(DEVICE))\n",
    "plt.imshow(y[0, 0].detach().cpu().numpy(), cmap='gray')"
   ]
  }
 ],
 "metadata": {
  "kernelspec": {
   "display_name": "Python 3",
   "language": "python",
   "name": "python3"
  },
  "language_info": {
   "codemirror_mode": {
    "name": "ipython",
    "version": 3
   },
   "file_extension": ".py",
   "mimetype": "text/x-python",
   "name": "python",
   "nbconvert_exporter": "python",
   "pygments_lexer": "ipython3",
   "version": "3.12.2"
  }
 },
 "nbformat": 4,
 "nbformat_minor": 2
}
