{
 "cells": [
  {
   "cell_type": "code",
   "execution_count": null,
   "metadata": {},
   "outputs": [],
   "source": [
    "import os\n",
    "import sys\n",
    "import torch\n",
    "\n",
    "torch.cuda.empty_cache()\n",
    "\n",
    "main_dir = os.path.dirname(os.getcwd())\n",
    "sys.path.append(main_dir)\n",
    "print(sys.path[-1])"
   ]
  },
  {
   "cell_type": "code",
   "execution_count": null,
   "metadata": {},
   "outputs": [],
   "source": [
    "from MambaCD.changedetection.script import train_MambaSCD"
   ]
  },
  {
   "cell_type": "code",
   "execution_count": 4,
   "metadata": {},
   "outputs": [],
   "source": [
    "configs_path = os.path.join(main_dir, 'MambaCD/changedetection/configs/vssm1/vssm_small_224.yaml')\n",
    "model_path = os.path.join(main_dir, 'MambaCD/saved_models')"
   ]
  },
  {
   "cell_type": "code",
   "execution_count": null,
   "metadata": {},
   "outputs": [],
   "source": [
    "SECOND_DATASET_PATH = os.path.join(main_dir, 'CD', 'Datasets', 'SECOND')\n",
    "SECOND_TRAIN_DATASET_PATH = os.path.join(SECOND_DATASET_PATH, 'train')\n",
    "SECOND_TEST_DATASET_PATH = os.path.join(SECOND_DATASET_PATH, 'test')\n",
    "SECOND_TRAIN_DATA_LIST_PATH = os.path.join(SECOND_DATASET_PATH, 'train.txt')\n",
    "SECOND_TEST_DATA_LIST_PATH = os.path.join(SECOND_DATASET_PATH, 'test.txt')\n",
    "\n",
    "train_data_list = []\n",
    "with open(SECOND_TRAIN_DATA_LIST_PATH, 'r') as f:\n",
    "    for line in f:\n",
    "        train_data_list.append(line.strip())\n",
    "\n",
    "test_data_list = []\n",
    "with open(SECOND_TEST_DATA_LIST_PATH, 'r') as f:\n",
    "    for line in f:\n",
    "        test_data_list.append(line.strip())"
   ]
  },
  {
   "cell_type": "code",
   "execution_count": null,
   "metadata": {},
   "outputs": [],
   "source": [
    "class ARGS:\n",
    "    def __init__(self):\n",
    "        self.cfg = configs_path\n",
    "        self.opts = None\n",
    "        self.pretrained_weight_path = None\n",
    "        self.dataset = 'SECOND'\n",
    "        self.type = 'train'\n",
    "        self.train_dataset_path = SECOND_TRAIN_DATASET_PATH\n",
    "        self.train_data_list_path = SECOND_TRAIN_DATA_LIST_PATH\n",
    "        self.test_dataset_path = SECOND_TEST_DATASET_PATH\n",
    "        self.test_data_list_path = SECOND_TEST_DATA_LIST_PATH\n",
    "        self.shuffle = True\n",
    "        self.batch_size = 1\n",
    "        self.crop_size = 256\n",
    "        self.train_data_name_list = train_data_list\n",
    "        self.test_data_name_list = test_data_list\n",
    "        self.start_iter = 0\n",
    "        self.cuda = True\n",
    "        self.max_iters = 800000\n",
    "        self.model_type = 'MambaSCD'\n",
    "        self.model_param_path = model_path\n",
    "        self.resume = None\n",
    "        self.learning_rate = 1e-4\n",
    "        self.momentum = 0.9\n",
    "        self.weight_decay = 5e-4\n",
    "\n",
    "args = ARGS()\n",
    "    "
   ]
  },
  {
   "cell_type": "code",
   "execution_count": null,
   "metadata": {},
   "outputs": [],
   "source": [
    "trainer_SECOND = train_MambaSCD.Trainer(args)\n",
    "trainer_SECOND.training()"
   ]
  },
  {
   "cell_type": "code",
   "execution_count": null,
   "metadata": {},
   "outputs": [],
   "source": [
    "trainer_SECOND.validation()"
   ]
  }
 ],
 "metadata": {
  "kernelspec": {
   "display_name": "Python 3",
   "language": "python",
   "name": "python3"
  },
  "language_info": {
   "codemirror_mode": {
    "name": "ipython",
    "version": 3
   },
   "file_extension": ".py",
   "mimetype": "text/x-python",
   "name": "python",
   "nbconvert_exporter": "python",
   "pygments_lexer": "ipython3",
   "version": "3.12.2"
  }
 },
 "nbformat": 4,
 "nbformat_minor": 2
}
